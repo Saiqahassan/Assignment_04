{
  "nbformat": 4,
  "nbformat_minor": 0,
  "metadata": {
    "colab": {
      "provenance": [],
      "authorship_tag": "ABX9TyMBQCJIN3Sv4HcbJ79nqtvQ",
      "include_colab_link": true
    },
    "kernelspec": {
      "name": "python3",
      "display_name": "Python 3"
    },
    "language_info": {
      "name": "python"
    }
  },
  "cells": [
    {
      "cell_type": "markdown",
      "metadata": {
        "id": "view-in-github",
        "colab_type": "text"
      },
      "source": [
        "<a href=\"https://colab.research.google.com/github/Saiqahassan/Assignment_04/blob/main/06_functions.ipynb\" target=\"_parent\"><img src=\"https://colab.research.google.com/assets/colab-badge.svg\" alt=\"Open In Colab\"/></a>"
      ]
    },
    {
      "cell_type": "code",
      "execution_count": null,
      "metadata": {
        "colab": {
          "base_uri": "https://localhost:8080/"
        },
        "id": "K93crteMRJvg",
        "outputId": "26ea9d8d-4b4a-42fe-f503-d918a1d7eb0c"
      },
      "outputs": [
        {
          "output_type": "stream",
          "name": "stdout",
          "text": [
            "The average is: 9.0\n"
          ]
        }
      ],
      "source": [
        "# 00_averages\n",
        "\n",
        "def average(num1, num2):\n",
        "  return (num1 + num2) / 2\n",
        "\n",
        "final = average(8, 10)\n",
        "print(\"The average is:\", final)\n",
        "\n",
        "if __name__ == \"__main__\":\n",
        "  average(8, 10)"
      ]
    },
    {
      "cell_type": "code",
      "source": [
        "# 01_chaotic_counting\n",
        "\n",
        "import random\n",
        "\n",
        "DONE_LIKELIHOOD = 0.2\n",
        "\n",
        "def chaotic_counting():\n",
        "  for i in range(10):\n",
        "    curr_num = i + 1\n",
        "    if done():\n",
        "      return\n",
        "    print(curr_num)\n",
        "\n",
        "def done():\n",
        "  if random.random() < DONE_LIKELIHOOD:\n",
        "    return True\n",
        "  else:\n",
        "    return False\n",
        "\n",
        "def main():\n",
        "  print(\"I'm going to count until 10 or until I feel like stopping, whichever comes first.\")\n",
        "  chaotic_counting()\n",
        "  print(\"I'm done counting.\")\n",
        "\n",
        "if __name__ == \"__main__\":\n",
        "  main()\n",
        "\n",
        "\n",
        "\n",
        "\n",
        "\n",
        "\n"
      ],
      "metadata": {
        "id": "U2WUMnBVVE_C",
        "colab": {
          "base_uri": "https://localhost:8080/"
        },
        "outputId": "d129600c-6c2e-475b-9cae-af0290993ee0"
      },
      "execution_count": 2,
      "outputs": [
        {
          "output_type": "stream",
          "name": "stdout",
          "text": [
            "I'm going to count until 10 or until I feel like stopping, whichever comes first.\n",
            "1\n",
            "2\n",
            "3\n",
            "4\n",
            "5\n",
            "I'm done counting.\n"
          ]
        }
      ]
    },
    {
      "cell_type": "code",
      "source": [
        "# 02_count_even\n",
        "\n",
        "def count_even(lst):\n",
        "  count = 0\n",
        "  for num in lst:\n",
        "    if num % 2 == 0:\n",
        "      count += 1\n",
        "  print(count)\n",
        "\n",
        "def get_list_of_ints():\n",
        "  lst = []\n",
        "  user_input = input(\"Enter an integer or press enter to stop: \")\n",
        "  while user_input != \"\":\n",
        "    lst.append(int(user_input))\n",
        "    user_input = input(\"Enter an integer or press enter to stop: \")\n",
        "  return lst\n",
        "\n",
        "def main():\n",
        "  lst = get_list_of_ints()\n",
        "  count_even(lst)\n",
        "\n",
        "if __name__ == \"__main__\":\n",
        "  main()"
      ],
      "metadata": {
        "colab": {
          "base_uri": "https://localhost:8080/"
        },
        "id": "_objrO4XLgwn",
        "outputId": "e8cfe7a0-d0f5-41c0-ce2a-8c6987712ca6"
      },
      "execution_count": 3,
      "outputs": [
        {
          "output_type": "stream",
          "name": "stdout",
          "text": [
            "Enter an integer or press enter to stop: 5\n",
            "Enter an integer or press enter to stop: 4\n",
            "Enter an integer or press enter to stop: 2\n",
            "Enter an integer or press enter to stop: 1\n",
            "Enter an integer or press enter to stop: 6\n",
            "Enter an integer or press enter to stop: \n",
            "3\n"
          ]
        }
      ]
    },
    {
      "cell_type": "code",
      "source": [
        "# 04_double\n",
        "\n",
        "def double(num):\n",
        "  return num * 2\n",
        "\n",
        "def main():\n",
        "  num = int(input(\"Enter a number: \"))\n",
        "  num_doubled = double(num)\n",
        "  print(\"Double that is\", num_doubled)\n",
        "\n",
        "if __name__ == \"__main__\":\n",
        "  main()\n",
        ""
      ],
      "metadata": {
        "colab": {
          "base_uri": "https://localhost:8080/"
        },
        "id": "8T-7e7nCPi1x",
        "outputId": "aac271b9-4fff-4027-bbfe-e163b97d24dc"
      },
      "execution_count": 4,
      "outputs": [
        {
          "output_type": "stream",
          "name": "stdout",
          "text": [
            "Enter a number: 4\n",
            "Double that is 8\n"
          ]
        }
      ]
    },
    {
      "cell_type": "code",
      "source": [
        "# 05_get_name\n",
        "\n",
        "def get_name():\n",
        "  return \"Sophia\"\n",
        "\n",
        "\n",
        "def main():\n",
        "  name = get_name()\n",
        "  print(\"Howdy\", name, \"! 🤠\")\n",
        "\n",
        "if __name__ == \"__main__\":\n",
        "  main()"
      ],
      "metadata": {
        "colab": {
          "base_uri": "https://localhost:8080/"
        },
        "id": "n2mdox33Rjad",
        "outputId": "259cd710-a13a-4364-fb36-3ee5c648d506"
      },
      "execution_count": 5,
      "outputs": [
        {
          "output_type": "stream",
          "name": "stdout",
          "text": [
            "Howdy Sophia ! 🤠\n"
          ]
        }
      ]
    },
    {
      "cell_type": "code",
      "source": [
        "# 06_is_odd.\n",
        "\n",
        "def main():\n",
        "  for i in range(10, 20):\n",
        "    if is_odd(i):\n",
        "      print(i, \"is odd\")\n",
        "    else:\n",
        "      print(i, \"is even\")\n",
        "\n",
        "def is_odd(num):\n",
        "  if num % 2 == 0:\n",
        "    return False\n",
        "  else:\n",
        "    return True\n",
        "\n",
        "if __name__ == \"__main__\":\n",
        "  main()\n"
      ],
      "metadata": {
        "colab": {
          "base_uri": "https://localhost:8080/"
        },
        "id": "pUhaC0vwSYQk",
        "outputId": "a46a3c23-6d92-4d46-852e-c54c9955940c"
      },
      "execution_count": 8,
      "outputs": [
        {
          "output_type": "stream",
          "name": "stdout",
          "text": [
            "10 is even\n",
            "11 is odd\n",
            "12 is even\n",
            "13 is odd\n",
            "14 is even\n",
            "15 is odd\n",
            "16 is even\n",
            "17 is odd\n",
            "18 is even\n",
            "19 is odd\n"
          ]
        }
      ]
    },
    {
      "cell_type": "code",
      "source": [
        "# 07_print_divisor\n",
        "\n",
        "def print_divisors(num):\n",
        "  for i in range(1, num + 1):\n",
        "    if num % i == 0:\n",
        "      print(i)\n",
        "\n",
        "def main():\n",
        "  num = int(input(\"Enter a number: \"))\n",
        "  print_divisors(num)\n",
        "\n",
        "if  __name__ == \"__main__\":\n",
        "  main()"
      ],
      "metadata": {
        "colab": {
          "base_uri": "https://localhost:8080/"
        },
        "id": "42YmFY5xU5Pk",
        "outputId": "b1c9a811-554f-4df3-edad-27c3a6e46004"
      },
      "execution_count": 10,
      "outputs": [
        {
          "output_type": "stream",
          "name": "stdout",
          "text": [
            "Enter a number: 8\n",
            "1\n",
            "2\n",
            "4\n",
            "8\n"
          ]
        }
      ]
    },
    {
      "cell_type": "code",
      "source": [
        "# 08_print_multiple\n",
        "\n",
        "def print_multiple(message, repeats):\n",
        "  for i in range(repeats):\n",
        "    print(message)\n",
        "\n",
        "def main():\n",
        "  message = input(\"Please type a message: \")\n",
        "  repeats = int(input(\"Enter a number of times to repeat your message: \"))\n",
        "  print_multiple(message, repeats)\n",
        "\n",
        "if __name__ == \"__main__\":\n",
        "  main()\n",
        ""
      ],
      "metadata": {
        "colab": {
          "base_uri": "https://localhost:8080/"
        },
        "id": "JCyHbtB-WS5v",
        "outputId": "c9cba098-49dd-44bd-8d36-f3f7bd1fd91f"
      },
      "execution_count": 11,
      "outputs": [
        {
          "output_type": "stream",
          "name": "stdout",
          "text": [
            "Please type a message: Hello!\n",
            "Enter a number of times to repeat your message: 4\n",
            "Hello!\n",
            "Hello!\n",
            "Hello!\n",
            "Hello!\n"
          ]
        }
      ]
    },
    {
      "cell_type": "code",
      "source": [
        "# 09_sentence_generator\n",
        "\n",
        "def make_sentence(word, part_of_speech):\n",
        "  if part_of_speech == 0:\n",
        "    print(\"I am excited to add this \" + word + \" to my vast collection of them!\")\n",
        "  elif part_of_speech == 1:\n",
        "    print(\"It's so nice outside today it makes me want to \" + word + \"!\")\n",
        "  elif part_of_speech == 2:\n",
        "    print(\"Looking out my window, the sky is big and \" + word + \"!\")\n",
        "  else:\n",
        "    print(\"Invalid part of speech. Please use 0 for noun, 1 for verb, or 2 for adjective.\")\n",
        "\n",
        "def main():\n",
        "  word = input(\"Please type a noun, verb, or adjective: \")\n",
        "  part_of_speech = int(input(\"Enter a part of speech (0 for noun, 1 for verb, 2 for adjective): \"))\n",
        "  make_sentence(word, part_of_speech)\n",
        "\n",
        "if __name__ == '__main__':\n",
        "    main()"
      ],
      "metadata": {
        "colab": {
          "base_uri": "https://localhost:8080/"
        },
        "id": "HIWDLttvX0nq",
        "outputId": "d6473ebf-69f8-451a-fe19-f674a67fefee"
      },
      "execution_count": 14,
      "outputs": [
        {
          "output_type": "stream",
          "name": "stdout",
          "text": [
            "Please type a noun, verb, or adjective: book\n",
            "Enter a part of speech (0 for noun, 1 for verb, 2 for adjective): 0\n",
            "I am excited to add this book to my vast collection of them!\n"
          ]
        }
      ]
    },
    {
      "cell_type": "code",
      "source": [
        "# 10_print_ones_digit\n",
        "\n",
        "def print_ones_digit(num):\n",
        "  print(\"The ones digit is\", num % 10)\n",
        "\n",
        "def main():\n",
        "  num = int(input(\"Enter a number: \"))\n",
        "  print_ones_digit(num)\n",
        "\n",
        "if __name__ == '__main__':\n",
        "    main()"
      ],
      "metadata": {
        "colab": {
          "base_uri": "https://localhost:8080/"
        },
        "id": "G9196Xzcbn9Q",
        "outputId": "5a1e3d02-bbf7-4921-9daa-d2af795c2f8e"
      },
      "execution_count": 15,
      "outputs": [
        {
          "output_type": "stream",
          "name": "stdout",
          "text": [
            "Enter a number: 45\n",
            "The ones digit is 5\n"
          ]
        }
      ]
    }
  ]
}