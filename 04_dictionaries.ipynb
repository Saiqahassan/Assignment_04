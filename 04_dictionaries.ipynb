{
  "nbformat": 4,
  "nbformat_minor": 0,
  "metadata": {
    "colab": {
      "provenance": [],
      "authorship_tag": "ABX9TyP94A7EeFIYGu+ruQnoyY14",
      "include_colab_link": true
    },
    "kernelspec": {
      "name": "python3",
      "display_name": "Python 3"
    },
    "language_info": {
      "name": "python"
    }
  },
  "cells": [
    {
      "cell_type": "markdown",
      "metadata": {
        "id": "view-in-github",
        "colab_type": "text"
      },
      "source": [
        "<a href=\"https://colab.research.google.com/github/Saiqahassan/Assignment_04/blob/main/04_dictionaries.ipynb\" target=\"_parent\"><img src=\"https://colab.research.google.com/assets/colab-badge.svg\" alt=\"Open In Colab\"/></a>"
      ]
    },
    {
      "cell_type": "code",
      "execution_count": 5,
      "metadata": {
        "colab": {
          "base_uri": "https://localhost:8080/"
        },
        "id": "8ooF4ywAWcit",
        "outputId": "5fbe0530-c5ee-401e-a089-5649fc55220b"
      },
      "outputs": [
        {
          "output_type": "stream",
          "name": "stdout",
          "text": [
            "Enter a number (or 'q' to quit): 3\n",
            "Enter a number (or 'q' to quit): 5\n",
            "Enter a number (or 'q' to quit): 8\n",
            "Enter a number (or 'q' to quit): 1\n",
            "Enter a number (or 'q' to quit): 3\n",
            "Enter a number (or 'q' to quit): 4\n",
            "Enter a number (or 'q' to quit): 5\n",
            "Enter a number (or 'q' to quit): 1\n",
            "Enter a number (or 'q' to quit): q\n",
            "3 appears 2 times\n",
            "5 appears 2 times\n",
            "8 appears 1 times\n",
            "1 appears 2 times\n",
            "4 appears 1 times\n"
          ]
        }
      ],
      "source": [
        "# 00_count_nums\n",
        "\n",
        "def get_user_numbers():\n",
        "  user_number = []\n",
        "  while True:\n",
        "    user_input = input(\"Enter a number (or 'q' to quit): \")\n",
        "\n",
        "    if user_input.lower() == 'q':\n",
        "      break\n",
        "\n",
        "    try:\n",
        "      number = int(user_input)\n",
        "      user_number.append(number)\n",
        "    except ValueError:\n",
        "      print(\"Invalid input. Please enter a valid number or 'q' to quit.\")\n",
        "      continue\n",
        "  return user_number\n",
        "\n",
        "def count_numbers(num_lst):\n",
        "  count_dict = {}\n",
        "  for num in num_lst:\n",
        "    if num in count_dict:\n",
        "      count_dict[num] += 1\n",
        "    else:\n",
        "      count_dict[num] = 1\n",
        "  return count_dict\n",
        "\n",
        "def print_counts(num_dict):\n",
        "\n",
        "  for num in num_dict:\n",
        "    print(f\"{num} appears {num_dict[num]} times\")\n",
        "\n",
        "def main():\n",
        "  user_numbers = get_user_numbers()\n",
        "  num_counts = count_numbers(user_numbers)\n",
        "  print_counts(num_counts)\n",
        "\n",
        "if __name__ == \"__main__\":\n",
        "  main()\n",
        "\n"
      ]
    },
    {
      "cell_type": "code",
      "source": [
        "# 01_phonebook\n",
        "\n",
        "def add_contact(phonebook):\n",
        "  name = input(\"Enter the name of the contact: \")\n",
        "  phone = input(\"Enter the phone number of the contact: \")\n",
        "\n",
        "  if name in phonebook:\n",
        "    print(f\"{name} already exists in the phonebook.\")\n",
        "  else:\n",
        "    phonebook[name] = phone\n",
        "    print(f\"{name} has been added to the phonebook.\")\n",
        "\n",
        "def search_contact(phonebook):\n",
        "  name = input(\"Enter the name of the contact to search for: \")\n",
        "\n",
        "  if name in phonebook:\n",
        "    print(f\"{name}'s phone number is {phonebook[name]}.\")\n",
        "  else:\n",
        "    print(f\"{name} not found in the phonebook.\")\n",
        "\n",
        "def delete_contact(phonebook):\n",
        "  name = input(\"Enter the name of the contact to delete: \")\n",
        "\n",
        "  if name in phonebook:\n",
        "    del phonebook[name]\n",
        "    print(f\"{name} has been deleted from the phonebook.\")\n",
        "  else:\n",
        "    print(f\"{name} not found in the phonebook.\")\n",
        "\n",
        "def display_contacts(phonebook):\n",
        "  if not phonebook:\n",
        "    print(\"The phonebook is empty.\")\n",
        "  else:\n",
        "    print(\"Contacts in the phonebook:\")\n",
        "    for name, phone in phonebook.items():\n",
        "      print(f\"{name}: {phone}\")\n",
        "\n",
        "if __name__ == \"__main__\":\n",
        "  phonebook = {}\n",
        "\n",
        "  while True:\n",
        "    print(\"\\nPhonebook Menu:\")\n",
        "    print(\"1. Add a contact\")\n",
        "    print(\"2. Search for a contact\")\n",
        "    print(\"3. Delete a contact\")\n",
        "    print(\"4. Display all contacts\")\n",
        "    print(\"5. Quit\")\n",
        "\n",
        "    choice = input(\"Enter your choice (1-5): \")\n",
        "\n",
        "    if choice == '1':\n",
        "      add_contact(phonebook)\n",
        "    elif choice == '2':\n",
        "      search_contact(phonebook)\n",
        "    elif choice == '3':\n",
        "      delete_contact(phonebook)\n",
        "    elif choice == '4':\n",
        "      display_contacts(phonebook)\n",
        "    elif choice == '5':\n",
        "      print(\"Goodbye!\")\n",
        "      break\n",
        "    else:\n",
        "      print(\"Invalid choice. Please enter a number between 1 and 5.\")\n",
        "\n",
        "\n",
        "\n",
        ""
      ],
      "metadata": {
        "colab": {
          "base_uri": "https://localhost:8080/"
        },
        "id": "a6D4QJbWidlt",
        "outputId": "34fe362d-9abe-4633-96a2-f4e7ab6ca78f"
      },
      "execution_count": 6,
      "outputs": [
        {
          "output_type": "stream",
          "name": "stdout",
          "text": [
            "\n",
            "Phonebook Menu:\n",
            "1. Add a contact\n",
            "2. Search for a contact\n",
            "3. Delete a contact\n",
            "4. Display all contacts\n",
            "5. Quit\n",
            "Enter your choice (1-5): 1\n",
            "Enter the name of the contact: Saiqa\n",
            "Enter the phone number of the contact: 99999\n",
            "Saiqa has been added to the phonebook.\n",
            "\n",
            "Phonebook Menu:\n",
            "1. Add a contact\n",
            "2. Search for a contact\n",
            "3. Delete a contact\n",
            "4. Display all contacts\n",
            "5. Quit\n",
            "Enter your choice (1-5): 4\n",
            "Contacts in the phonebook:\n",
            "Saiqa: 99999\n",
            "\n",
            "Phonebook Menu:\n",
            "1. Add a contact\n",
            "2. Search for a contact\n",
            "3. Delete a contact\n",
            "4. Display all contacts\n",
            "5. Quit\n",
            "Enter your choice (1-5): \n",
            "Invalid choice. Please enter a number between 1 and 5.\n",
            "\n",
            "Phonebook Menu:\n",
            "1. Add a contact\n",
            "2. Search for a contact\n",
            "3. Delete a contact\n",
            "4. Display all contacts\n",
            "5. Quit\n",
            "Enter your choice (1-5): 5\n",
            "Goodbye!\n"
          ]
        }
      ]
    },
    {
      "cell_type": "code",
      "source": [
        "# 02_pop_up_shop\n",
        "\n",
        "def calculate_total_cost():\n",
        "  fruits_price = {\n",
        "      \"apples\": 5.0,\n",
        "      \"bananas\": 8.0,\n",
        "      \"oranges\": 10.0,\n",
        "      \"kiwi\": 12.0,\n",
        "      \"mangoes\": 15.0,\n",
        "      \"grapes\": 18.0\n",
        "  }\n",
        "\n",
        "  total_cost = 0\n",
        "\n",
        "  for fruit, price in fruits_price.items():\n",
        "    while True:\n",
        "      try:\n",
        "        quantity = int(input(f\"How many {fruit} do you want?:  \"))\n",
        "        if quantity < 0:\n",
        "          print(\"Quantity cannot be negative. Please enter a valid quantity.\")\n",
        "          continue\n",
        "        else:\n",
        "          total_cost += price * quantity\n",
        "          break\n",
        "      except ValueError:\n",
        "        print(\"Invalid input. Please enter a valid quantity.\")\n",
        "\n",
        "      print(f\"Total cost of fruits: ${total_cost:.2f}\")\n",
        "\n",
        "if __name__ == \"__main__\":\n",
        "  calculate_total_cost()\n",
        "\n",
        "\n"
      ],
      "metadata": {
        "colab": {
          "base_uri": "https://localhost:8080/"
        },
        "id": "reJmPUebm_Vj",
        "outputId": "807eb2f2-a4ca-4775-f5ca-cfa907460c09"
      },
      "execution_count": 9,
      "outputs": [
        {
          "name": "stdout",
          "output_type": "stream",
          "text": [
            "How many apples do you want?:  3\n",
            "How many bananas do you want?:  2\n",
            "How many oranges do you want?:  3\n",
            "How many kiwi do you want?:  4\n",
            "How many mangoes do you want?:  5\n",
            "How many grapes do you want?:  1\n"
          ]
        }
      ]
    },
    {
      "cell_type": "code",
      "source": [
        "# 03_powerful_passwords\n",
        "\n",
        "import hashlib\n",
        "\n",
        "def hash_password(password):\n",
        "  return hashlib.sha256(password.encode()).hexdigest()\n",
        "\n",
        "stored_logins = {\n",
        "    \"user@example.com\": hash_password(\"password123\"),\n",
        "    \"admin@example.com\": hash_password(\"admin123\")\n",
        "}\n",
        "\n",
        "def login(email, password):\n",
        "  if email in stored_logins:\n",
        "    return stored_logins[email] == hash_password(password)\n",
        "    return False\n",
        "\n",
        "if __name__ == \"__main__\":\n",
        "  email = input(\"Enter your email: \")\n",
        "  password = input(\"Enter your password: \")\n",
        "\n",
        "  if login(email, password):\n",
        "    print(\"Login successful!\")\n",
        "  else:\n",
        "    print(\"Login failed. Invalid email or password.\")\n",
        "\n",
        "\n",
        "\n"
      ],
      "metadata": {
        "colab": {
          "base_uri": "https://localhost:8080/"
        },
        "id": "NamrI4xku3DJ",
        "outputId": "f3a89f7c-4354-40c9-c337-4755f4e1975c"
      },
      "execution_count": 10,
      "outputs": [
        {
          "output_type": "stream",
          "name": "stdout",
          "text": [
            "Enter your email: user@example.com\n",
            "Enter your password: password123\n",
            "Login successful!\n"
          ]
        }
      ]
    }
  ]
}