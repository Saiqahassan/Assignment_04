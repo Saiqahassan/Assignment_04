{
  "nbformat": 4,
  "nbformat_minor": 0,
  "metadata": {
    "colab": {
      "provenance": [],
      "authorship_tag": "ABX9TyMhgLVYVg2G4XyOIlwk84vM",
      "include_colab_link": true
    },
    "kernelspec": {
      "name": "python3",
      "display_name": "Python 3"
    },
    "language_info": {
      "name": "python"
    }
  },
  "cells": [
    {
      "cell_type": "markdown",
      "metadata": {
        "id": "view-in-github",
        "colab_type": "text"
      },
      "source": [
        "<a href=\"https://colab.research.google.com/github/Saiqahassan/Assignment_04/blob/main/02_intermediate.ipynb\" target=\"_parent\"><img src=\"https://colab.research.google.com/assets/colab-badge.svg\" alt=\"Open In Colab\"/></a>"
      ]
    },
    {
      "cell_type": "markdown",
      "source": [
        "# **Control Flow for Console**\n"
      ],
      "metadata": {
        "id": "KBVW_aeexkU1"
      }
    },
    {
      "cell_type": "code",
      "source": [
        "# handout\n",
        "\n",
        "import random\n",
        "\n",
        "num_rounds = 5\n",
        "\n",
        "def main():\n",
        "  print(\"Welcome to the High-Low Game!\")\n",
        "  print(\"=============================\")\n",
        "\n",
        "  your_score = 0\n",
        "  computer_score = 0\n",
        "\n",
        "  for i in range(num_rounds):\n",
        "    print(\"Round\", i + 1)\n",
        "    # Step 1: Generate the random numbers and print them out\n",
        "    computer_num = random.randint(1, 100)\n",
        "    your_num = random.randint(1, 100)\n",
        "    print(\"Your number is\", your_num)\n",
        "\n",
        "    # Step 2: Get user input for their choice\n",
        "    choice = input(\"Do you think your number is higher or lower than the computer's?: \")\n",
        "\n",
        "    # Make sure the player inputs a valid choice (higher or lower)\n",
        "    while choice != \"higher\" and choice != \"lower\":\n",
        "      choice = input(\"Please enter either higher or lower: \")\n",
        "\n",
        "    # Step 3: Map out all the ways to win the round\n",
        "    higher_and_correct = choice == \"higher\" and your_num > computer_num\n",
        "    lower_and_correct = choice == \"lower\" and your_num < computer_num\n",
        "# handout\n",
        "\n",
        "import random\n",
        "\n",
        "num_rounds = 5\n",
        "\n",
        "def main():\n",
        "  print(\"Welcome to the High-Low Game!\")\n",
        "  print(\"=============================\")\n",
        "\n",
        "  your_score = 0\n",
        "  computer_score = 0\n",
        "\n",
        "  for i in range(num_rounds):\n",
        "    print(\"\\n Round\", i + 1)\n",
        "    # Step 1: Generate the random numbers and print them out\n",
        "    computer_num = random.randint(1, 100)\n",
        "    your_num = random.randint(1, 100)\n",
        "    print(\"Your number is\", your_num)\n",
        "\n",
        "    # Step 2: Get user input for their choice\n",
        "    choice = input(\"Do you think your number is higher or lower than the computer's?: \")\n",
        "\n",
        "    # Make sure the player inputs a valid choice (higher or lower)\n",
        "    while choice != \"higher\" and choice != \"lower\":\n",
        "      choice = input(\"Please enter either higher or lower: \")\n",
        "\n",
        "    # Step 3: Map out all the ways to win the round\n",
        "    higher_and_correct = choice == \"higher\" and your_num > computer_num\n",
        "    lower_and_correct = choice == \"lower\" and your_num < computer_num\n",
        "\n",
        "    if higher_and_correct or lower_and_correct:\n",
        "      print(\"You won this round! The computer's number was\", computer_num)\n",
        "      your_score += 1\n",
        "    else:\n",
        "      print(\"Sorry, you lost this round. The computer's number was\", computer_num)\n",
        "      computer_score += 1\n",
        "\n",
        "      # Step 4: keep track of your score\n",
        "      print(\"Your score is\", your_score)\n",
        "      print(\"Computer score is\", computer_score)\n",
        "\n",
        "\n",
        "  # Conditional ending messages based on performance\n",
        "  print(\"\\nYour final score is\", your_score)\n",
        "  if your_score == num_rounds:\n",
        "    print(\"\\nWow! You played perfectly!\")\n",
        "  elif your_score > computer_score:\n",
        "    print(\"\\nGood job, you played really well!\")\n",
        "  else:\n",
        "    print(\"\\nBetter luck next time!\")\n",
        "\n",
        "if __name__ == \"__main__\":\n",
        "  main()\n"
      ],
      "metadata": {
        "id": "DAT8-hyCxmeb",
        "colab": {
          "base_uri": "https://localhost:8080/"
        },
        "outputId": "f5cdcd6d-6f88-4453-c9b4-cc81da6bfce5"
      },
      "execution_count": null,
      "outputs": [
        {
          "output_type": "stream",
          "name": "stdout",
          "text": [
            "Welcome to the High-Low Game!\n",
            "=============================\n",
            "\n",
            " Round 1\n",
            "Your number is 39\n",
            "Do you think your number is higher or lower than the computer's?: lower\n",
            "You won this round! The computer's number was 45\n",
            "\n",
            " Round 2\n",
            "Your number is 62\n",
            "Do you think your number is higher or lower than the computer's?: higher\n",
            "You won this round! The computer's number was 13\n",
            "\n",
            " Round 3\n",
            "Your number is 90\n",
            "Do you think your number is higher or lower than the computer's?: higher\n",
            "You won this round! The computer's number was 51\n",
            "\n",
            " Round 4\n",
            "Your number is 71\n",
            "Do you think your number is higher or lower than the computer's?: higher\n",
            "You won this round! The computer's number was 39\n",
            "\n",
            " Round 5\n",
            "Your number is 39\n",
            "Do you think your number is higher or lower than the computer's?: lower\n",
            "You won this round! The computer's number was 51\n",
            "\n",
            "Your final score is 5\n",
            "\n",
            "Wow! You played perfectly!\n"
          ]
        }
      ]
    },
    {
      "cell_type": "markdown",
      "source": [
        "# **Intro to Python**"
      ],
      "metadata": {
        "id": "wKuw2jXD6t_t"
      }
    },
    {
      "cell_type": "code",
      "source": [
        "mars_multiple = 0.378\n",
        "\n",
        "def main():\n",
        "  earth_weight_str =  input('Enter a weight on Earth: ')\n",
        "\n",
        "  earth_weight = float(earth_weight_str)\n",
        "  mars_weight = earth_weight * mars_multiple\n",
        "  rounded_mars_weight = round(mars_weight, 2)\n",
        "\n",
        "  print(\"The equivalent weight on Mars:\" + str(rounded_mars_weight))\n",
        "\n",
        "if __name__ == '__main__':\n",
        "  main()\n"
      ],
      "metadata": {
        "colab": {
          "base_uri": "https://localhost:8080/"
        },
        "id": "kF1GjsfZ6xX4",
        "outputId": "aed6264e-ef60-4bf0-8da2-3aa39b3be660"
      },
      "execution_count": null,
      "outputs": [
        {
          "output_type": "stream",
          "name": "stdout",
          "text": [
            "Enter a weight on Earth: 45\n",
            "The equivalent weight on Mars:17.01\n"
          ]
        }
      ]
    },
    {
      "cell_type": "markdown",
      "source": [
        "# **Lists and Dicts**\n"
      ],
      "metadata": {
        "id": "LldMR-xzCqHB"
      }
    },
    {
      "cell_type": "code",
      "source": [
        "# Problem #1: List Practice\n",
        "\n",
        "def main():\n",
        "  fruit_list = ['apple', 'banana', 'orange', 'grape', 'pineapple']\n",
        "  fruit_list.append('mango')\n",
        "  print(fruit_list)\n",
        "\n",
        "if __name__ == '__main__':\n",
        "    main()\n",
        "\n"
      ],
      "metadata": {
        "colab": {
          "base_uri": "https://localhost:8080/"
        },
        "id": "Jz8HBUX7Cr-x",
        "outputId": "7a55a19c-3704-48be-bace-011b32fcdf40"
      },
      "execution_count": null,
      "outputs": [
        {
          "output_type": "stream",
          "name": "stdout",
          "text": [
            "['apple', 'banana', 'orange', 'grape', 'pineapple', 'mango']\n"
          ]
        }
      ]
    },
    {
      "cell_type": "code",
      "source": [
        "# Problem #2: Index Game\n",
        "\n",
        "# Initialize a List\n",
        "my_list = [42, \"apple\", 3.14, \"banana\", 100]\n",
        "\n",
        "# Accessing Elements\n",
        "def access_element(lst, index):\n",
        "  try:\n",
        "    return lst[index]\n",
        "  except IndexError:\n",
        "    return \"Index out of range.\"\n",
        "\n",
        "# Modifying Elements\n",
        "def modify_element(lst, index, new_value):\n",
        "  try:\n",
        "    lst[index] = new_value\n",
        "    return lst\n",
        "  except IndexError:\n",
        "    return \"Index out of range.\"\n",
        "\n",
        "# Slicing the List\n",
        "def slice_list(lst, start, end):\n",
        "  try:\n",
        "    return lst[start:end]\n",
        "  except IndexError:\n",
        "    return \"Invalid indices.\"\n",
        "\n",
        "# Index game\n",
        "\n",
        "def index_game():\n",
        "  lst = [1, 2, 3, 4, 5]\n",
        "  print(\"Current list:\", lst)\n",
        "  operation = input(\"Choose an operation: access, modify, slice: \")\n",
        "\n",
        "  if operation == \"access\":\n",
        "    index = int(input(\"Enter index to access: \"))\n",
        "    print(access_element(lst, index))\n",
        "  elif operation == \"modify\":\n",
        "    index = int(input(\"Enter index to modify: \"))\n",
        "    new_value = input(\"Enter new value: \")\n",
        "    print(modify_element(lst, index, new_value))\n",
        "  elif operation == \"slice\":\n",
        "    start = int(input(\"Enter start index: \"))\n",
        "    end = int(input(\"Enter end index: \"))\n",
        "    print(slice_list(lst, start, end))\n",
        "  else:\n",
        "    print(\"Invalid operation.\")\n",
        "\n",
        "index_game()\n"
      ],
      "metadata": {
        "id": "NLfu6_MeEIp7",
        "colab": {
          "base_uri": "https://localhost:8080/"
        },
        "outputId": "e0875a03-775e-4519-9003-1452add3f3b7"
      },
      "execution_count": 1,
      "outputs": [
        {
          "output_type": "stream",
          "name": "stdout",
          "text": [
            "Current list: [1, 2, 3, 4, 5]\n",
            "Choose an operation: access, modify, slice: access\n",
            "Enter index to access: 3\n",
            "4\n"
          ]
        }
      ]
    }
  ]
}