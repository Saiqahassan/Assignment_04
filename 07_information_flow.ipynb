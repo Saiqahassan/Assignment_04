{
  "nbformat": 4,
  "nbformat_minor": 0,
  "metadata": {
    "colab": {
      "provenance": [],
      "authorship_tag": "ABX9TyMLVG0Hug7djV7baBtRVxOy",
      "include_colab_link": true
    },
    "kernelspec": {
      "name": "python3",
      "display_name": "Python 3"
    },
    "language_info": {
      "name": "python"
    }
  },
  "cells": [
    {
      "cell_type": "markdown",
      "metadata": {
        "id": "view-in-github",
        "colab_type": "text"
      },
      "source": [
        "<a href=\"https://colab.research.google.com/github/Saiqahassan/Assignment_04/blob/main/07_information_flow.ipynb\" target=\"_parent\"><img src=\"https://colab.research.google.com/assets/colab-badge.svg\" alt=\"Open In Colab\"/></a>"
      ]
    },
    {
      "cell_type": "code",
      "execution_count": 1,
      "metadata": {
        "colab": {
          "base_uri": "https://localhost:8080/"
        },
        "id": "WlqvyAWsdXEb",
        "outputId": "28697d0c-994a-472e-8842-3837dab3d9d7"
      },
      "outputs": [
        {
          "output_type": "stream",
          "name": "stdout",
          "text": [
            "How old is this person?: 28\n",
            "True\n"
          ]
        }
      ],
      "source": [
        "# 00_choosing_returns\n",
        "\n",
        "ADULT_AGE = 18 # U.S. age\n",
        "\n",
        "def is_adult(age):\n",
        "  if age >= ADULT_AGE:\n",
        "    return True\n",
        "  else:\n",
        "    return False\n",
        "\n",
        "def main():\n",
        "  age = int(input(\"How old is this person?: \"))\n",
        "  print(is_adult(age))\n",
        "\n",
        "if __name__ == \"__main__\":\n",
        "  main()"
      ]
    },
    {
      "cell_type": "code",
      "source": [
        "\n",
        "# 01_greetings\n",
        "\n",
        "def main():\n",
        "  name = input(\"What is your name?: \")\n",
        "  print(greet(name))\n",
        "\n",
        "def greet(name):\n",
        "  return \"Greetings \" + name + \"!\"\n",
        "\n",
        "\n",
        "if __name__ == \"__main__\":\n",
        "  main()"
      ],
      "metadata": {
        "colab": {
          "base_uri": "https://localhost:8080/"
        },
        "id": "s3nkfTueevPk",
        "outputId": "781bff5f-b110-4c42-d93f-fa64a7f011ab"
      },
      "execution_count": 5,
      "outputs": [
        {
          "output_type": "stream",
          "name": "stdout",
          "text": [
            "What is your name?: Sophia\n",
            "Greetings Sophia!\n"
          ]
        }
      ]
    },
    {
      "cell_type": "code",
      "source": [
        "# 02_in_range\n",
        "\n",
        "def in_range(n, low, high):\n",
        "  if n >= low and n <= high:\n",
        "    return True\n",
        "\n",
        "  return False\n",
        "\n",
        "print(in_range(5, 1, 20))"
      ],
      "metadata": {
        "colab": {
          "base_uri": "https://localhost:8080/"
        },
        "id": "SiXE1G7JgBkL",
        "outputId": "6aee1ef7-5f6e-44d4-c240-87543e6247e4"
      },
      "execution_count": 8,
      "outputs": [
        {
          "output_type": "stream",
          "name": "stdout",
          "text": [
            "True\n"
          ]
        }
      ]
    },
    {
      "cell_type": "code",
      "source": [
        "# 03_in_stock\n",
        "\n",
        "def main():\n",
        "  fruit = input(\"Enter a fruit: \")\n",
        "  stock = num_in_stock(fruit)\n",
        "  if stock == 0:\n",
        "    print(\"This fruit is not in stock.\")\n",
        "  else:\n",
        "    print(\"This fruit is in stock! Here is how many:\")\n",
        "    print(stock)\n",
        "\n",
        "def num_in_stock(fruit):\n",
        "  if fruit == 'apple':\n",
        "    return 4\n",
        "  if fruit == 'grapes':\n",
        "    return 5\n",
        "  if fruit == 'pear':\n",
        "    return 1000\n",
        "  else:\n",
        "    return 0\n",
        "\n",
        "if __name__ == \"__main__\":\n",
        "  main()\n",
        "\n"
      ],
      "metadata": {
        "colab": {
          "base_uri": "https://localhost:8080/"
        },
        "id": "oQ0CEtY6hLnp",
        "outputId": "53c0acb6-6b5d-493f-b891-740fb357e7e7"
      },
      "execution_count": 9,
      "outputs": [
        {
          "output_type": "stream",
          "name": "stdout",
          "text": [
            "Enter a fruit: pear\n",
            "This fruit is in stock! Here is how many:\n",
            "1000\n",
            "Enter a fruit: kiwi\n",
            "This fruit is not in stock.\n"
          ]
        }
      ]
    },
    {
      "cell_type": "code",
      "source": [
        "# 04_multiple_returns\n",
        "\n",
        "def get_user_info():\n",
        "  first_name = input(\"What is your first name?: \")\n",
        "  last_name = input(\"What is your last name?: \")\n",
        "  email_address = input(\"What is your email address?: \")\n",
        "  return first_name, last_name, email_address\n",
        "\n",
        "def main():\n",
        "  user_data = get_user_info()\n",
        "  print(\"Received the following user data:\", user_data)\n",
        "\n",
        "if __name__ == \"__main__\":\n",
        "  main()"
      ],
      "metadata": {
        "colab": {
          "base_uri": "https://localhost:8080/"
        },
        "id": "cx_WB0wgjmCU",
        "outputId": "292fa03a-075c-4f98-8946-f6395c1db0ce"
      },
      "execution_count": 10,
      "outputs": [
        {
          "output_type": "stream",
          "name": "stdout",
          "text": [
            "What is your first name?: Saiqa\n",
            "What is your last name?: Hassan\n",
            "What is your email address?: saiqahassan32@gmail.com\n",
            "Received the following user data: ('Saiqa', 'Hassan', 'saiqahassan32@gmail.com')\n"
          ]
        }
      ]
    },
    {
      "cell_type": "code",
      "source": [
        "# 05_subtract_7.\n",
        "\n",
        "def main():\n",
        "  number = int(input(\"Enter a number: \"))\n",
        "  num = subtract_7(number)\n",
        "  print(\"Result after subtracting 7 is:\", num)\n",
        "\n",
        "\n",
        "def subtract_7(num):\n",
        "  num = num - 7\n",
        "  return num\n",
        "\n",
        "if __name__ == \"__main__\":\n",
        "  main()"
      ],
      "metadata": {
        "colab": {
          "base_uri": "https://localhost:8080/"
        },
        "id": "ekVbmd24k-et",
        "outputId": "732471ff-9110-4ea8-9fe0-d526134cc39b"
      },
      "execution_count": 14,
      "outputs": [
        {
          "output_type": "stream",
          "name": "stdout",
          "text": [
            "Enter a number: 14\n",
            "Result after subtracting 7 is: 7\n"
          ]
        }
      ]
    }
  ]
}