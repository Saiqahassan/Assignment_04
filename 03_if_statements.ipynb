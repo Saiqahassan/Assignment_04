{
  "nbformat": 4,
  "nbformat_minor": 0,
  "metadata": {
    "colab": {
      "provenance": [],
      "authorship_tag": "ABX9TyNKFOSffMSvox74n4WxdDnE",
      "include_colab_link": true
    },
    "kernelspec": {
      "name": "python3",
      "display_name": "Python 3"
    },
    "language_info": {
      "name": "python"
    }
  },
  "cells": [
    {
      "cell_type": "markdown",
      "metadata": {
        "id": "view-in-github",
        "colab_type": "text"
      },
      "source": [
        "<a href=\"https://colab.research.google.com/github/Saiqahassan/Assignment_04/blob/main/03_if_statements.ipynb\" target=\"_parent\"><img src=\"https://colab.research.google.com/assets/colab-badge.svg\" alt=\"Open In Colab\"/></a>"
      ]
    },
    {
      "cell_type": "code",
      "execution_count": 1,
      "metadata": {
        "colab": {
          "base_uri": "https://localhost:8080/"
        },
        "id": "Ap5U9TFiMDqZ",
        "outputId": "9970c75d-f40f-40b8-c13e-15553385810d"
      },
      "outputs": [
        {
          "output_type": "stream",
          "name": "stdout",
          "text": [
            "0\n",
            "2\n",
            "4\n",
            "6\n",
            "8\n",
            "10\n",
            "12\n",
            "14\n",
            "16\n",
            "18\n",
            "20\n",
            "22\n",
            "24\n",
            "26\n",
            "28\n",
            "30\n",
            "32\n",
            "34\n",
            "36\n",
            "38\n"
          ]
        }
      ],
      "source": [
        "# 01) print_events\n",
        "\n",
        "def even():\n",
        "  for i in range(20):\n",
        "    even = i*2\n",
        "    print(even)\n",
        "\n",
        "if __name__ == '__main__':\n",
        "  even()"
      ]
    },
    {
      "cell_type": "code",
      "source": [
        "# 02) international_voting_age\n",
        "\n",
        "Peturksbouipo_age = 16\n",
        "Stanlau_age = 25\n",
        "Mayengua_age = 48\n",
        "\n",
        "def main():\n",
        "  user_age = int(input(\"How old are you? \"))\n",
        "\n",
        "  if user_age >= Peturksbouipo_age:\n",
        "    print(\"You are eligible to vote in Peturksbouipo\")\n",
        "  else:\n",
        "    print(\"You are not eligible to vote in Peturksbouipo\")\n",
        "\n",
        "  if user_age >= Stanlau_age:\n",
        "    print(\"You are eligible to vote in Stanlau\")\n",
        "  else:\n",
        "    print(\"You are not eligible to vote in Stanlau\")\n",
        "\n",
        "  if user_age >= Mayengua_age:\n",
        "    print(\"You are eligible to vote in Mayengua\")\n",
        "  else:\n",
        "    print(\"You are not eligible to vote in Mayengua\")\n",
        "\n",
        "if __name__ == '__main__':\n",
        "  main()\n"
      ],
      "metadata": {
        "colab": {
          "base_uri": "https://localhost:8080/"
        },
        "id": "ZD3J2-KeOMnG",
        "outputId": "e17afdc1-5ad2-4c44-9497-827f33d94868"
      },
      "execution_count": 2,
      "outputs": [
        {
          "output_type": "stream",
          "name": "stdout",
          "text": [
            "How old are you? 34\n",
            "You are eligible to vote in Peturksbouipo\n",
            "You are eligible to vote in Stanlau\n",
            "You are not eligible to vote in Mayengua\n"
          ]
        }
      ]
    },
    {
      "cell_type": "code",
      "source": [
        "# 03) leap_year\n",
        "\n",
        "def leap_year():\n",
        "  year = int(input(\"Enter a year: \"))\n",
        "  if (year % 4) == 0:\n",
        "    if (year % 100) == 0:\n",
        "      if (year % 400) == 0:\n",
        "        print(f\"{year} is a leap year\")\n",
        "      else:\n",
        "        print(f\"{year} is not a leap year\")\n",
        "    else:\n",
        "      print(f\"{year} is a leap year\")\n",
        "  else:\n",
        "    print(f\"{year} is not a leap year\")\n",
        "\n",
        "if __name__ == '__main__':\n",
        "  leap_year()"
      ],
      "metadata": {
        "colab": {
          "base_uri": "https://localhost:8080/"
        },
        "id": "V_qGn2NWQaJg",
        "outputId": "38e2e6b0-b129-4b24-ae48-afca4cca2993"
      },
      "execution_count": 3,
      "outputs": [
        {
          "output_type": "stream",
          "name": "stdout",
          "text": [
            "Enter a year: 2025\n",
            "2025 is not a leap year\n"
          ]
        }
      ]
    },
    {
      "cell_type": "code",
      "source": [
        "# 04) tall_enough_to_ride\n",
        "\n",
        "min_height = 50\n",
        "\n",
        "def main():\n",
        "  user_height = int(input(\"How tall are you? \"))\n",
        "  if user_height >= min_height:\n",
        "    print(\"You are tall enough to ride\")\n",
        "  else:\n",
        "    print(\"You are not tall enough to ride\")\n",
        "\n",
        "if __name__ == '__main__':\n",
        "  main()\n",
        "\n"
      ],
      "metadata": {
        "colab": {
          "base_uri": "https://localhost:8080/"
        },
        "id": "1intcErkSYqJ",
        "outputId": "e99c939d-2393-47a8-aa6b-cd69e5275038"
      },
      "execution_count": 4,
      "outputs": [
        {
          "output_type": "stream",
          "name": "stdout",
          "text": [
            "How tall are you? 60\n",
            "You are tall enough to ride\n"
          ]
        }
      ]
    },
    {
      "cell_type": "code",
      "source": [
        "# 05) random_numbers\n",
        "\n",
        "import random\n",
        "\n",
        "def main():\n",
        "  for i in range(10):\n",
        "    random_number = random.randint(1, 100)\n",
        "    print(random_number)\n",
        "\n",
        "if __name__ == '__main__':\n",
        "  main()"
      ],
      "metadata": {
        "colab": {
          "base_uri": "https://localhost:8080/"
        },
        "id": "GrdXhYwyUAMA",
        "outputId": "c6b13cc0-e367-4c05-983c-03c427b33c5e"
      },
      "execution_count": 5,
      "outputs": [
        {
          "output_type": "stream",
          "name": "stdout",
          "text": [
            "87\n",
            "71\n",
            "95\n",
            "82\n",
            "41\n",
            "99\n",
            "24\n",
            "57\n",
            "4\n",
            "94\n"
          ]
        }
      ]
    },
    {
      "cell_type": "code",
      "source": [],
      "metadata": {
        "id": "hp33LMOWVhsi"
      },
      "execution_count": null,
      "outputs": []
    }
  ]
}