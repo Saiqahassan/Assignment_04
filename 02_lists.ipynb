{
  "nbformat": 4,
  "nbformat_minor": 0,
  "metadata": {
    "colab": {
      "provenance": [],
      "authorship_tag": "ABX9TyMP+L/EJmL3KtqP9JOp3lTy",
      "include_colab_link": true
    },
    "kernelspec": {
      "name": "python3",
      "display_name": "Python 3"
    },
    "language_info": {
      "name": "python"
    }
  },
  "cells": [
    {
      "cell_type": "markdown",
      "metadata": {
        "id": "view-in-github",
        "colab_type": "text"
      },
      "source": [
        "<a href=\"https://colab.research.google.com/github/Saiqahassan/Assignment_04/blob/main/02_lists.ipynb\" target=\"_parent\"><img src=\"https://colab.research.google.com/assets/colab-badge.svg\" alt=\"Open In Colab\"/></a>"
      ]
    },
    {
      "cell_type": "code",
      "execution_count": null,
      "metadata": {
        "colab": {
          "base_uri": "https://localhost:8080/"
        },
        "id": "orAVussWEp4k",
        "outputId": "5febc8df-8940-4139-f1ab-09af2985ade6"
      },
      "outputs": [
        {
          "output_type": "stream",
          "name": "stdout",
          "text": [
            "15\n"
          ]
        }
      ],
      "source": [
        "# 01) add_many_number\n",
        "\n",
        "def add_many_numbers(numbers)-> int:\n",
        "\n",
        "    total_so_far: int = 0\n",
        "    for number in numbers:\n",
        "        total_so_far += number\n",
        "\n",
        "    return total_so_far\n",
        "\n",
        "def main():\n",
        "    numbers: list[int] = [1, 2, 3, 4, 5]\n",
        "    sum_of_numbers: int = add_many_numbers(numbers)\n",
        "    print(sum_of_numbers)\n",
        "\n",
        "if __name__ == \"__main__\":\n",
        "  main()\n"
      ]
    },
    {
      "cell_type": "code",
      "source": [
        "# 02) double_list\n",
        "\n",
        "def main():\n",
        "  numbers: list[int] = [1, 2, 3, 4, 5]\n",
        "  for i in range(len(numbers)):\n",
        "    numbers[i] *= 2\n",
        "  print(numbers)\n",
        "\n",
        "if __name__ == \"__main__\":\n",
        "  main()"
      ],
      "metadata": {
        "colab": {
          "base_uri": "https://localhost:8080/"
        },
        "id": "UK1fl6FBLl4s",
        "outputId": "6e15fcce-8e96-4052-ef3e-cb074e147b1a"
      },
      "execution_count": null,
      "outputs": [
        {
          "output_type": "stream",
          "name": "stdout",
          "text": [
            "[2, 4, 6, 8, 10]\n"
          ]
        }
      ]
    },
    {
      "cell_type": "code",
      "source": [
        "# 04) flowing_with_data_structures\n",
        "\n",
        "def add_copies(my_list, data):\n",
        "    for i in range(3):\n",
        "        my_list.append(data)\n",
        "\n",
        "def main():\n",
        "   message = input(\"Enter a message to copy: \")\n",
        "   my_list = []\n",
        "   print(\"List before:\", my_list)\n",
        "   add_copies(my_list, message)\n",
        "   print(\"List after:\", my_list)\n",
        "\n",
        "if __name__ == \"__main__\":\n",
        "    main()\n"
      ],
      "metadata": {
        "colab": {
          "base_uri": "https://localhost:8080/"
        },
        "id": "RFqdycWVNtPX",
        "outputId": "b3629c0f-d9b5-4984-ad82-24bd1bd1188e"
      },
      "execution_count": null,
      "outputs": [
        {
          "output_type": "stream",
          "name": "stdout",
          "text": [
            "Enter a message to copy: Hello World!\n",
            "List before: []\n",
            "List after: ['Hello World!', 'Hello World!', 'Hello World!']\n"
          ]
        }
      ]
    },
    {
      "cell_type": "code",
      "source": [
        "# 05) get_first_element\n",
        "\n",
        "def get_first_element(lst):\n",
        "  print(lst[0])\n",
        "\n",
        "def get_lst():\n",
        "  lst = []\n",
        "  element = input(\"Enter an element to add to the list: \")\n",
        "  while element != \"\":\n",
        "    lst.append(element)\n",
        "    element = input(\"Enter an element to add to the list: \")\n",
        "  return lst\n",
        "\n",
        "def main():\n",
        "  lst = get_lst()\n",
        "  get_first_element(lst)\n",
        "\n",
        "if __name__ == \"__main__\":\n",
        "  main()"
      ],
      "metadata": {
        "colab": {
          "base_uri": "https://localhost:8080/"
        },
        "id": "Wuu8y5hBQpqF",
        "outputId": "23ab297d-1e85-4729-ff29-1645216a6603"
      },
      "execution_count": null,
      "outputs": [
        {
          "name": "stdout",
          "output_type": "stream",
          "text": [
            "Enter an element to add to the list: 5\n"
          ]
        }
      ]
    },
    {
      "cell_type": "code",
      "source": [
        "# 06) get_last_element\n",
        "\n",
        "def get_last_element(lst):\n",
        "  print(lst[-1])\n",
        "\n",
        "def main():\n",
        "  lst = [1, 2, 3, 4, 5]\n",
        "  get_last_element(lst)\n",
        "\n",
        "if __name__ == \"__main__\":\n",
        "  main()\n"
      ],
      "metadata": {
        "id": "cS9af0JHUvTo",
        "colab": {
          "base_uri": "https://localhost:8080/"
        },
        "outputId": "e2c4d23a-6068-45e2-9f0c-35ee142de392"
      },
      "execution_count": null,
      "outputs": [
        {
          "output_type": "stream",
          "name": "stdout",
          "text": [
            "5\n"
          ]
        }
      ]
    },
    {
      "cell_type": "code",
      "source": [
        "# 07) get_list\n",
        "\n",
        "def main():\n",
        "    lst = []\n",
        "\n",
        "    value = input(\"Enter a value: \")\n",
        "    while value:\n",
        "        lst.append(value)\n",
        "        value = input(\"Enter a value: \")\n",
        "\n",
        "    print(\"Here's the list:\", lst)\n",
        "\n",
        "if __name__ == \"__main__\":\n",
        "    main()\n"
      ],
      "metadata": {
        "id": "LfNb-13sW77s",
        "colab": {
          "base_uri": "https://localhost:8080/"
        },
        "outputId": "002eda2c-c9c4-44a0-a6ba-27d2bd0e9e40"
      },
      "execution_count": null,
      "outputs": [
        {
          "output_type": "stream",
          "name": "stdout",
          "text": [
            "Enter a value: 1\n",
            "Enter a value: 2\n",
            "Enter a value: 3\n",
            "Enter a value: \n",
            "Here's the list: ['1', '2', '3']\n"
          ]
        }
      ]
    },
    {
      "cell_type": "code",
      "source": [
        "# 08) shorten\n",
        "\n",
        "max_length = 3\n",
        "\n",
        "def shorten(lst):\n",
        "  while len(lst) > max_length:\n",
        "    last_element = lst.pop()\n",
        "    print(last_element, \"was removed\")\n",
        "\n",
        "def get_lst():\n",
        "  lst = []\n",
        "  element = input(\"Enter an element to add to the list: \")\n",
        "  while element != \"\":\n",
        "    lst.append(element)\n",
        "    element = input(\"Enter an element to add to the list: \")\n",
        "  return lst\n",
        "\n",
        "\n",
        "def main():\n",
        "  lst = get_lst()\n",
        "  shorten(lst)\n",
        "\n",
        "if __name__ == \"__main__\":\n",
        "  main()\n"
      ],
      "metadata": {
        "id": "847_YOBSaHM3",
        "colab": {
          "base_uri": "https://localhost:8080/"
        },
        "outputId": "4f15934f-be6d-417c-d483-c8acee3a1140"
      },
      "execution_count": null,
      "outputs": [
        {
          "name": "stdout",
          "output_type": "stream",
          "text": [
            "Enter an element to add to the list: Saiqa\n",
            "Enter an element to add to the list: Hassan\n"
          ]
        }
      ]
    },
    {
      "cell_type": "code",
      "source": [],
      "metadata": {
        "id": "JOE-4y-WIwtG"
      },
      "execution_count": null,
      "outputs": []
    }
  ]
}