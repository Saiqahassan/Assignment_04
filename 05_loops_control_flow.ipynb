{
  "nbformat": 4,
  "nbformat_minor": 0,
  "metadata": {
    "colab": {
      "provenance": [],
      "authorship_tag": "ABX9TyPGP7BNFhahP1Fxu/E43T/4",
      "include_colab_link": true
    },
    "kernelspec": {
      "name": "python3",
      "display_name": "Python 3"
    },
    "language_info": {
      "name": "python"
    }
  },
  "cells": [
    {
      "cell_type": "markdown",
      "metadata": {
        "id": "view-in-github",
        "colab_type": "text"
      },
      "source": [
        "<a href=\"https://colab.research.google.com/github/Saiqahassan/Assignment_04/blob/main/05_loops_control_flow.ipynb\" target=\"_parent\"><img src=\"https://colab.research.google.com/assets/colab-badge.svg\" alt=\"Open In Colab\"/></a>"
      ]
    },
    {
      "cell_type": "code",
      "execution_count": 3,
      "metadata": {
        "colab": {
          "base_uri": "https://localhost:8080/"
        },
        "id": "Jq6Qu_lD6ElD",
        "outputId": "b56fead6-ba31-4510-b456-d9288d30f32e"
      },
      "outputs": [
        {
          "output_type": "stream",
          "name": "stdout",
          "text": [
            "Guess a number between 1 and 99: 55\n",
            "Your guess is too low, Try again!\n",
            "Guess again: 85\n",
            "Your guess is too high\n",
            "Guess again: 75\n",
            "Congrats! The number was: 75 \n"
          ]
        }
      ],
      "source": [
        "# 00_guess_my_number\n",
        "\n",
        "import random\n",
        "\n",
        "def guess_number():\n",
        "  secret_number = random.randint(1,99)\n",
        "  user_guess = int(input(\"Guess a number between 1 and 99: \"))\n",
        "\n",
        "  while user_guess != secret_number:\n",
        "    if user_guess < secret_number:\n",
        "      print(\"Your guess is too low, Try again!\")\n",
        "    else:\n",
        "      print(\"Your guess is too high\")\n",
        "\n",
        "    user_guess = int(input(\"Guess again: \"))\n",
        "  print(f\"Congrats! The number was: {secret_number} \")\n",
        "\n",
        "if __name__ == \"__main__\":\n",
        "  guess_number()"
      ]
    },
    {
      "cell_type": "code",
      "source": [
        "# 01_fibonacci\n",
        "\n",
        "max_value = 10000\n",
        "\n",
        "def fibonacci():\n",
        "  first_term = 0\n",
        "  second_term = 1\n",
        "  while first_term <= max_value:\n",
        "    print(first_term)\n",
        "    next_term = first_term + second_term\n",
        "    first_term = second_term\n",
        "    second_term = next_term\n",
        "\n",
        "if __name__ == \"__main__\":\n",
        "  fibonacci()"
      ],
      "metadata": {
        "colab": {
          "base_uri": "https://localhost:8080/"
        },
        "id": "2D-95uP4FQfr",
        "outputId": "14275f44-8aec-4e42-cd7e-994f1713fc5c"
      },
      "execution_count": 4,
      "outputs": [
        {
          "output_type": "stream",
          "name": "stdout",
          "text": [
            "0\n",
            "1\n",
            "1\n",
            "2\n",
            "3\n",
            "5\n",
            "8\n",
            "13\n",
            "21\n",
            "34\n",
            "55\n",
            "89\n",
            "144\n",
            "233\n",
            "377\n",
            "610\n",
            "987\n",
            "1597\n",
            "2584\n",
            "4181\n",
            "6765\n"
          ]
        }
      ]
    },
    {
      "cell_type": "code",
      "source": [
        "# 02_print_events\n",
        "\n",
        "def print_events():\n",
        "  for i in range(20):\n",
        "    print(i * 2)\n",
        "\n",
        "if __name__ == \"__main__\":\n",
        "  print_events()"
      ],
      "metadata": {
        "colab": {
          "base_uri": "https://localhost:8080/"
        },
        "id": "aif2VY9SHcCS",
        "outputId": "38c3c05c-560c-45ea-8da6-8dea9b0e8fbe"
      },
      "execution_count": 5,
      "outputs": [
        {
          "output_type": "stream",
          "name": "stdout",
          "text": [
            "0\n",
            "2\n",
            "4\n",
            "6\n",
            "8\n",
            "10\n",
            "12\n",
            "14\n",
            "16\n",
            "18\n",
            "20\n",
            "22\n",
            "24\n",
            "26\n",
            "28\n",
            "30\n",
            "32\n",
            "34\n",
            "36\n",
            "38\n"
          ]
        }
      ]
    },
    {
      "cell_type": "code",
      "source": [
        "# 03_wholesome_machine\n",
        "\n",
        "affirmation = \"I am capable of doing anything I put my mind to.\"\n",
        "\n",
        "def main():\n",
        "  print(\"Please type the following affirmation: \" + affirmation)\n",
        "\n",
        "  user_feedback = input()\n",
        "  while user_feedback != affirmation:\n",
        "    print(\"That was not the affirmation.\")\n",
        "    print(\"Please type the following affirmation: \" + affirmation)\n",
        "\n",
        "    user_feedback = input()\n",
        "  print(\"That's right! \")\n",
        "\n",
        "if __name__ == \"__main__\":\n",
        "  main()\n"
      ],
      "metadata": {
        "colab": {
          "base_uri": "https://localhost:8080/"
        },
        "id": "OjTUOvt4IRQI",
        "outputId": "209d29e9-a6a9-46d5-9b84-3b023ebbda8e"
      },
      "execution_count": 6,
      "outputs": [
        {
          "output_type": "stream",
          "name": "stdout",
          "text": [
            "Please type the following affirmation: I am capable of doing anything I put my mind to.\n",
            "I am capable of doing anything I put my mind\n",
            "That was not the affirmation.\n",
            "Please type the following affirmation: I am capable of doing anything I put my mind to.\n",
            "I am capable of doing anything I put my mind to.\n",
            "That's right! \n"
          ]
        }
      ]
    },
    {
      "cell_type": "code",
      "source": [
        "# 04_liftoff\n",
        "\n",
        "def liftoff():\n",
        "  for i in range(10, 0, -1):\n",
        "    print(i)\n",
        "  print(\"Liftoff!\")\n",
        "\n",
        "if __name__ == \"__main__\":\n",
        "  liftoff()"
      ],
      "metadata": {
        "colab": {
          "base_uri": "https://localhost:8080/"
        },
        "id": "P9wu1-aVMa15",
        "outputId": "9f12e856-0ec3-450e-e6b9-68cf332a49c2"
      },
      "execution_count": 7,
      "outputs": [
        {
          "output_type": "stream",
          "name": "stdout",
          "text": [
            "10\n",
            "9\n",
            "8\n",
            "7\n",
            "6\n",
            "5\n",
            "4\n",
            "3\n",
            "2\n",
            "1\n",
            "Liftoff!\n"
          ]
        }
      ]
    },
    {
      "cell_type": "code",
      "source": [
        "# 05_double_it\n",
        "\n",
        "def double_number():\n",
        "  curr_value = int(input(\"Please enter a number: \"))\n",
        "\n",
        "  while curr_value < 100:\n",
        "   curr_value = curr_value * 2\n",
        "  print(curr_value)\n",
        "\n",
        "if __name__ == \"__main__\":\n",
        "  double_number()"
      ],
      "metadata": {
        "colab": {
          "base_uri": "https://localhost:8080/"
        },
        "id": "qmiHSqigNmO5",
        "outputId": "29ecbea5-7b3a-456b-9776-da9787f608b4"
      },
      "execution_count": 10,
      "outputs": [
        {
          "output_type": "stream",
          "name": "stdout",
          "text": [
            "Please enter a number: 2\n",
            "128\n"
          ]
        }
      ]
    }
  ]
}