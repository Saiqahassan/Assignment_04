{
  "nbformat": 4,
  "nbformat_minor": 0,
  "metadata": {
    "colab": {
      "provenance": [],
      "authorship_tag": "ABX9TyMZup94SP0NuDurIB8lE2T4",
      "include_colab_link": true
    },
    "kernelspec": {
      "name": "python3",
      "display_name": "Python 3"
    },
    "language_info": {
      "name": "python"
    }
  },
  "cells": [
    {
      "cell_type": "markdown",
      "metadata": {
        "id": "view-in-github",
        "colab_type": "text"
      },
      "source": [
        "<a href=\"https://colab.research.google.com/github/Saiqahassan/Assignment_04/blob/main/01_basics.ipynb\" target=\"_parent\"><img src=\"https://colab.research.google.com/assets/colab-badge.svg\" alt=\"Open In Colab\"/></a>"
      ]
    },
    {
      "cell_type": "code",
      "execution_count": 4,
      "metadata": {
        "colab": {
          "base_uri": "https://localhost:8080/"
        },
        "id": "dtz6JrGgk7gT",
        "outputId": "23d96a81-215c-44e3-c03d-5b05ae09cc99"
      },
      "outputs": [
        {
          "output_type": "stream",
          "name": "stdout",
          "text": [
            "What do you want?joke\n",
            "Here is a joke for you! Sophia is heading out to the grocery store. A programmer tells her: get a liter of milk, and if they have eggs, get 12. Sophia returns with 13 liters of milk. The programmer asks why and Sophia replies: 'because they had eggs'\n"
          ]
        }
      ],
      "source": [
        "# 00_joke_bot\n",
        "\n",
        "Prompt = \"What do you want?\"\n",
        "Joke = \"Here is a joke for you! Sophia is heading out to the grocery store. A programmer tells her: get a liter of milk, and if they have eggs, get 12. Sophia returns with 13 liters of milk. The programmer asks why and Sophia replies: 'because they had eggs'\"\n",
        "SORRY= \"Sorry I only tell jokes.\"\n",
        "\n",
        "def main():\n",
        "  user_input = input(Prompt)\n",
        "  user_input = user_input.strip().lower()\n",
        "\n",
        "  if user_input == \"joke\":\n",
        "    print(Joke)\n",
        "  else:\n",
        "    print(SORRY)\n",
        "\n",
        "if __name__ == \"__main__\":\n",
        "    main()"
      ]
    },
    {
      "cell_type": "code",
      "source": [
        "# 01_double_it\n",
        "\n",
        "def double_number():\n",
        "  curr_value = int(input(\"Please enter a number: \"))\n",
        "\n",
        "  while curr_value < 100:\n",
        "   curr_value = curr_value * 2\n",
        "  print(curr_value)\n",
        "\n",
        "if __name__ == \"__main__\":\n",
        "  double_number()\n"
      ],
      "metadata": {
        "colab": {
          "base_uri": "https://localhost:8080/"
        },
        "id": "u2NlXAQUnF_8",
        "outputId": "c2dbc128-9b90-4b46-c164-b34f6bfff58f"
      },
      "execution_count": 5,
      "outputs": [
        {
          "output_type": "stream",
          "name": "stdout",
          "text": [
            "Please enter a number: 5\n",
            "160\n"
          ]
        }
      ]
    },
    {
      "cell_type": "code",
      "source": [
        "# 02_liftoff\n",
        "\n",
        "def liftoff():\n",
        "  for i in range(10, 0, -1):\n",
        "    print(i)\n",
        "  print(\"Liftoff!\")\n",
        "\n",
        "if __name__ == \"__main__\":\n",
        "  liftoff()\n",
        ""
      ],
      "metadata": {
        "colab": {
          "base_uri": "https://localhost:8080/"
        },
        "id": "SudSCN_ss831",
        "outputId": "5a8db801-d68e-4fef-c858-f11ee6d64d02"
      },
      "execution_count": 6,
      "outputs": [
        {
          "output_type": "stream",
          "name": "stdout",
          "text": [
            "10\n",
            "9\n",
            "8\n",
            "7\n",
            "6\n",
            "5\n",
            "4\n",
            "3\n",
            "2\n",
            "1\n",
            "Liftoff!\n"
          ]
        }
      ]
    },
    {
      "cell_type": "code",
      "source": [
        "# 03_guess_my_number\n",
        "\n",
        "import random\n",
        "\n",
        "def guess_number():\n",
        "  secret_number = random.randint(1,99)\n",
        "  user_guess = int(input(\"Guess a number between 1 and 99: \"))\n",
        "\n",
        "  while user_guess != secret_number:\n",
        "    if user_guess < secret_number:\n",
        "      print(\"Your guess is too low, Try again!\")\n",
        "    else:\n",
        "      print(\"Your guess is too high\")\n",
        "\n",
        "    user_guess = int(input(\"Guess again: \"))\n",
        "  print(f\"Congrats! The number was: {secret_number} \")\n",
        "\n",
        "if __name__ == \"__main__\":\n",
        "  guess_number()\n"
      ],
      "metadata": {
        "colab": {
          "base_uri": "https://localhost:8080/"
        },
        "id": "R0SnY6lotXau",
        "outputId": "80226839-ef7e-4200-b436-3b5a8dc07bcd"
      },
      "execution_count": 7,
      "outputs": [
        {
          "output_type": "stream",
          "name": "stdout",
          "text": [
            "Guess a number between 1 and 99: 5\n",
            "Your guess is too low, Try again!\n",
            "Guess again: 40\n",
            "Your guess is too low, Try again!\n",
            "Guess again: 70\n",
            "Your guess is too low, Try again!\n",
            "Guess again: 85\n",
            "Your guess is too high\n",
            "Guess again: 80\n",
            "Your guess is too low, Try again!\n",
            "Guess again: 84\n",
            "Your guess is too high\n",
            "Guess again: 81\n",
            "Congrats! The number was: 81 \n"
          ]
        }
      ]
    },
    {
      "cell_type": "code",
      "source": [
        "# 04_random_numbers\n",
        "\n",
        "import random\n",
        "\n",
        "numbers = 10\n",
        "min_value = 1\n",
        "max_value = 100\n",
        "\n",
        "def main():\n",
        "  for i in range(numbers):\n",
        "    random_number = random.randint(min_value, max_value)\n",
        "    print(random_number)\n",
        "\n",
        "if __name__ == \"__main__\":\n",
        "  main()\n"
      ],
      "metadata": {
        "colab": {
          "base_uri": "https://localhost:8080/"
        },
        "id": "Xs6oMB93t2fu",
        "outputId": "1ffc4694-d11a-4c66-e0de-5e2c54add49b"
      },
      "execution_count": 8,
      "outputs": [
        {
          "output_type": "stream",
          "name": "stdout",
          "text": [
            "88\n",
            "10\n",
            "34\n",
            "78\n",
            "26\n",
            "23\n",
            "74\n",
            "48\n",
            "17\n",
            "41\n"
          ]
        }
      ]
    }
  ]
}