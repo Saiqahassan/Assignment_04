{
  "nbformat": 4,
  "nbformat_minor": 0,
  "metadata": {
    "colab": {
      "provenance": [],
      "authorship_tag": "ABX9TyPYNFemnWNreQQH+TdeJpGr",
      "include_colab_link": true
    },
    "kernelspec": {
      "name": "python3",
      "display_name": "Python 3"
    },
    "language_info": {
      "name": "python"
    }
  },
  "cells": [
    {
      "cell_type": "markdown",
      "metadata": {
        "id": "view-in-github",
        "colab_type": "text"
      },
      "source": [
        "<a href=\"https://colab.research.google.com/github/Saiqahassan/Assignment_04/blob/main/00_intro_python.ipynb\" target=\"_parent\"><img src=\"https://colab.research.google.com/assets/colab-badge.svg\" alt=\"Open In Colab\"/></a>"
      ]
    },
    {
      "cell_type": "code",
      "execution_count": 1,
      "metadata": {
        "colab": {
          "base_uri": "https://localhost:8080/"
        },
        "id": "srofE-nqcJoR",
        "outputId": "1933c5e9-9c67-4e6c-f5ad-51b8922e06d0"
      },
      "outputs": [
        {
          "output_type": "stream",
          "name": "stdout",
          "text": [
            "Enter first number: 4\n",
            "Enter second number: 5\n",
            "Total sum is:  9\n"
          ]
        }
      ],
      "source": [
        "# 01) add_two_numbers\n",
        "\n",
        "def main():\n",
        "\n",
        "  num1 = input(\"Enter first number: \")\n",
        "  num1 = int(num1)\n",
        "\n",
        "  num2 = input(\"Enter second number: \")\n",
        "  num2 = int(num2)\n",
        "\n",
        "  total_sum = num1 + num2\n",
        "  print(\"Total sum is: \", total_sum)\n",
        "\n",
        "if __name__ == '__main__':\n",
        "    main()"
      ]
    },
    {
      "cell_type": "code",
      "source": [
        "# 02) agreement_bot\n",
        "\n",
        "from IPython.display import Markdown\n",
        "\n",
        "def main():\n",
        "  animal = input(\"What's your favorite animal? \")\n",
        "  display(Markdown(f\"My favorite animal is also ***{animal}***!\"))\n",
        "\n",
        "if __name__ == '__main__':\n",
        "    main()"
      ],
      "metadata": {
        "colab": {
          "base_uri": "https://localhost:8080/",
          "height": 64
        },
        "id": "FoHyJ-EFd3W5",
        "outputId": "d119905f-139c-427c-cdd4-6419b1e25b30"
      },
      "execution_count": 7,
      "outputs": [
        {
          "name": "stdout",
          "output_type": "stream",
          "text": [
            "What's your favorite animal? cow\n"
          ]
        },
        {
          "output_type": "display_data",
          "data": {
            "text/plain": [
              "<IPython.core.display.Markdown object>"
            ],
            "text/markdown": "My favorite animal is also ***cow***!"
          },
          "metadata": {}
        }
      ]
    },
    {
      "cell_type": "code",
      "source": [
        "# 03) fahrenheit_to_celsius\n",
        "\n",
        "def main():\n",
        "  fahrenheit = float(input(\"Enter temperature in Fahrenheit: \"))\n",
        "  celsius = (fahrenheit - 32) * 5/9\n",
        "  print(f\"Temperature in Celsius: {celsius} C\")\n",
        "\n",
        "if __name__ == '__main__':\n",
        "    main()"
      ],
      "metadata": {
        "colab": {
          "base_uri": "https://localhost:8080/"
        },
        "id": "-JTUIlQLmd6g",
        "outputId": "0ee92809-e539-4a15-ae54-d74ceec95958"
      },
      "execution_count": 5,
      "outputs": [
        {
          "output_type": "stream",
          "name": "stdout",
          "text": [
            "Enter temperature in Fahrenheit: 76\n",
            "Temperature in Celsius: 24.444444444444443 C\n"
          ]
        }
      ]
    },
    {
      "cell_type": "code",
      "source": [
        "# 04) how_old_are_they\n",
        "\n",
        "def ages():\n",
        "  anton = 21\n",
        "  beth = 6 + anton\n",
        "  chen = 20 + beth\n",
        "  drew = chen + anton\n",
        "  ethan = chen\n",
        "\n",
        "  print(f\"Anton is {anton} years old.\")\n",
        "  print(f\"Beth is {beth} years old.\")\n",
        "  print(f\"Chen is {chen} years old.\")\n",
        "  print(f\"Drew is {drew} years old.\")\n",
        "  print(f\"Ethan is {ethan} years old.\")\n",
        "\n",
        "if __name__ == '__main__':\n",
        "    ages()"
      ],
      "metadata": {
        "colab": {
          "base_uri": "https://localhost:8080/"
        },
        "id": "sdGQAAVIBYEw",
        "outputId": "a127ef44-c27a-4e0c-ce15-e3e3f723643e"
      },
      "execution_count": 6,
      "outputs": [
        {
          "output_type": "stream",
          "name": "stdout",
          "text": [
            "Anton is 21 years old.\n",
            "Beth is 27 years old.\n",
            "Chen is 47 years old.\n",
            "Drew is 68 years old.\n",
            "Ethan is 47 years old.\n"
          ]
        }
      ]
    },
    {
      "cell_type": "code",
      "source": [
        "# 05) triangle_perimeter\n",
        "\n",
        "def main():\n",
        "  side1 = float(input(\"Enter length of side 1: \"))\n",
        "  side2 = float(input(\"Enter length of side 2: \"))\n",
        "  side3 = float(input(\"Enter length of side 3: \"))\n",
        "  sum_total = side1 + side2 + side3\n",
        "\n",
        "  print(f\"The perimeter of the triangle is {sum_total}\")\n",
        "\n",
        "if __name__ == '__main__':\n",
        "    main()\n",
        "\n"
      ],
      "metadata": {
        "colab": {
          "base_uri": "https://localhost:8080/"
        },
        "id": "j2qeGDoCDq6c",
        "outputId": "15331897-25b0-46dc-89fa-ad532da24352"
      },
      "execution_count": 7,
      "outputs": [
        {
          "output_type": "stream",
          "name": "stdout",
          "text": [
            "Enter length of side 1: 10\n",
            "Enter length of side 2: 20\n",
            "Enter length of side 3: 15\n",
            "The perimeter of the triangle is 45.0\n"
          ]
        }
      ]
    },
    {
      "cell_type": "code",
      "source": [
        "# 06) square_number\n",
        "\n",
        "def square():\n",
        "  num = int(input(\"Enter a number to see its square:  \"))\n",
        "  square = num * num\n",
        "  print(f\"The square of {num} is {square}\")\n",
        "\n",
        "if __name__ == '__main__':\n",
        "    square()"
      ],
      "metadata": {
        "colab": {
          "base_uri": "https://localhost:8080/"
        },
        "id": "1F_0dMu5Fa2_",
        "outputId": "806c8d98-7960-4d2b-d3d8-ae0bd9f8dcb6"
      },
      "execution_count": 8,
      "outputs": [
        {
          "output_type": "stream",
          "name": "stdout",
          "text": [
            "Enter a number to see its square:  6\n",
            "The square of 6 is 36\n"
          ]
        }
      ]
    }
  ]
}