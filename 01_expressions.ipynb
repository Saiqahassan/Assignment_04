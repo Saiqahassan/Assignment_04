{
  "nbformat": 4,
  "nbformat_minor": 0,
  "metadata": {
    "colab": {
      "provenance": [],
      "authorship_tag": "ABX9TyPUCeZp/3tGLP/U4jmdw4fa",
      "include_colab_link": true
    },
    "kernelspec": {
      "name": "python3",
      "display_name": "Python 3"
    },
    "language_info": {
      "name": "python"
    }
  },
  "cells": [
    {
      "cell_type": "markdown",
      "metadata": {
        "id": "view-in-github",
        "colab_type": "text"
      },
      "source": [
        "<a href=\"https://colab.research.google.com/github/Saiqahassan/Assignment_04/blob/main/01_expressions.ipynb\" target=\"_parent\"><img src=\"https://colab.research.google.com/assets/colab-badge.svg\" alt=\"Open In Colab\"/></a>"
      ]
    },
    {
      "cell_type": "code",
      "execution_count": null,
      "metadata": {
        "colab": {
          "base_uri": "https://localhost:8080/"
        },
        "id": "LZQ8_ZxFJlkA",
        "outputId": "3bdb41c5-8317-43a0-dc53-716855112b9f"
      },
      "outputs": [
        {
          "output_type": "stream",
          "name": "stdout",
          "text": [
            "dice1 in main() starts as: 10\n",
            "Total of two dices is 7\n",
            "Total of two dices is 9\n",
            "Total of two dices is 5\n",
            "dice1 in main() is: 10\n"
          ]
        }
      ],
      "source": [
        "# 01) dicesimulator\n",
        "\n",
        "import random\n",
        "\n",
        "def roll_dice():\n",
        "  dice1 = random.randint(1, 6)\n",
        "  dice2 = random.randint(1, 6)\n",
        "  total = dice1 + dice2\n",
        "  print(f\"Total of two dices is {total}\")\n",
        "\n",
        "def main():\n",
        "    dice1: int = 10\n",
        "    print(\"dice1 in main() starts as: \" + str(dice1))\n",
        "    roll_dice()\n",
        "    roll_dice()\n",
        "    roll_dice()\n",
        "    print(\"dice1 in main() is: \" + str(dice1))\n",
        "\n",
        "if __name__ == \"__main__\":\n",
        "  main()\n"
      ]
    },
    {
      "cell_type": "code",
      "source": [
        "# 02) e=mc2\n",
        "\n",
        "def energy():\n",
        "  c = 299792458\n",
        "  mass = float(input(\"Enter kilos of mass: \"))\n",
        "  energy = mass * (c ** 2)\n",
        "\n",
        "  print(\"e = m * C^2\")\n",
        "  print(\"Mass = \" + str(mass)+ \" kg\")\n",
        "  print(\"C = \" + str(c) + \" m/s\")\n",
        "  print(\"e = \" + str(mass * c ** 2) + \" joules \")\n",
        "\n",
        "if __name__ == \"__main__\":\n",
        "  energy()\n"
      ],
      "metadata": {
        "id": "7qjHfsZBMP_Z",
        "colab": {
          "base_uri": "https://localhost:8080/"
        },
        "outputId": "3dd7ba36-ced3-44db-96fa-95ce960822e8"
      },
      "execution_count": null,
      "outputs": [
        {
          "output_type": "stream",
          "name": "stdout",
          "text": [
            "Enter kilos of mass: 40\n",
            "e = m * C^2\n",
            "Mass = 40.0 kg\n",
            "C = 299792458 m/s\n",
            "e = 3.5950207149472707e+18 joules \n"
          ]
        }
      ]
    },
    {
      "cell_type": "code",
      "source": [
        "# 03) feet_to_inches\n",
        "\n",
        "def foot():\n",
        "  inch = 12\n",
        "  feet = int(input(\"Enter number of feet: \"))\n",
        "  inches = feet * inch\n",
        "  print(f\"There are {inches} inches in {feet} feet.\")\n",
        "\n",
        "if __name__ == \"__main__\":\n",
        "  foot()"
      ],
      "metadata": {
        "id": "4szMeddQATFA",
        "colab": {
          "base_uri": "https://localhost:8080/"
        },
        "outputId": "45249504-505c-4bc9-d57d-7d45a6427b0f"
      },
      "execution_count": null,
      "outputs": [
        {
          "output_type": "stream",
          "name": "stdout",
          "text": [
            "Enter number of feet: 9\n",
            "There are 108 inches in 9 feet.\n"
          ]
        }
      ]
    },
    {
      "cell_type": "code",
      "source": [
        "# 04) pythagorean_theorem\n",
        "\n",
        "import math\n",
        "\n",
        "def triangle():\n",
        "  ab = float(input(\"Enter the length of AB: \"))\n",
        "  ac = float(input(\"Enter the length of AC: \"))\n",
        "\n",
        "  bc = math.sqrt(ab ** 2 + ac ** 2)\n",
        "\n",
        "  print(f\"The length of BC is: {bc}\")\n",
        "\n",
        "if __name__ == \"__main__\":\n",
        "  triangle()\n"
      ],
      "metadata": {
        "colab": {
          "base_uri": "https://localhost:8080/"
        },
        "id": "5P4fC6ayEcC5",
        "outputId": "4805668c-4f1e-4612-ee7f-aaa5630e12e3"
      },
      "execution_count": null,
      "outputs": [
        {
          "output_type": "stream",
          "name": "stdout",
          "text": [
            "Enter the length of AB: 5\n",
            "Enter the length of AC: 3\n",
            "The length of BC is: 5.830951894845301\n"
          ]
        }
      ]
    },
    {
      "cell_type": "code",
      "source": [
        "# 05) remainder_division\n",
        "\n",
        "def remainder():\n",
        "  num1 = int(input(\"Enter an integer to be divided: \"))\n",
        "  num2 = int(input(\"Enter an integer to divide by: \"))\n",
        "\n",
        "  quotient = num1 // num2\n",
        "  remainder = num1 % num2\n",
        "\n",
        "  print(f\"The result of this division is {quotient} with the remainder of {remainder}.\")\n",
        "\n",
        "if __name__ == \"__main__\":\n",
        "  remainder()"
      ],
      "metadata": {
        "colab": {
          "base_uri": "https://localhost:8080/"
        },
        "id": "W79EVj2LGsSd",
        "outputId": "af7aa188-fde8-4708-fd4e-60ab9bc21e6b"
      },
      "execution_count": null,
      "outputs": [
        {
          "output_type": "stream",
          "name": "stdout",
          "text": [
            "Enter an integer to be divided: 12\n",
            "Enter an integer to divide by: 8\n",
            "The result of this division is 1 with the remainder of 4.\n"
          ]
        }
      ]
    },
    {
      "cell_type": "code",
      "source": [
        "# 06) rolldice\n",
        "\n",
        "import random\n",
        "\n",
        "def rolldice():\n",
        "  dice1 = random.randint(1, 6)\n",
        "  dice2 = random.randint(1, 6)\n",
        "  total = dice1 + dice2\n",
        "\n",
        "  print(f\"Dice 1: {dice1}\")\n",
        "  print(f\"Dice 2: {dice2}\")\n",
        "  print(f\"Total of two dices: {total}\")\n",
        "\n",
        "if __name__ == \"__main__\":\n",
        "  rolldice()"
      ],
      "metadata": {
        "colab": {
          "base_uri": "https://localhost:8080/"
        },
        "id": "E4CqTM-KJVbo",
        "outputId": "e2390c8a-11a8-49c1-b247-ff5665866489"
      },
      "execution_count": null,
      "outputs": [
        {
          "output_type": "stream",
          "name": "stdout",
          "text": [
            "Dice 1: 6\n",
            "Dice 2: 1\n",
            "Total of two dices: 7\n"
          ]
        }
      ]
    },
    {
      "cell_type": "code",
      "source": [
        "# 06) seconds_in_year\n",
        "\n",
        "days_in_year = 365\n",
        "hours_per_day = 24\n",
        "min_per_hour = 60\n",
        "sec_per_min = 60\n",
        "\n",
        "def seconds():\n",
        "  print(f\"There are {days_in_year * hours_per_day * min_per_hour * sec_per_min} seconds in a year.\")\n",
        "\n",
        "if __name__ == \"__main__\":\n",
        "  seconds()"
      ],
      "metadata": {
        "id": "l5lxuO0_Kqsf",
        "colab": {
          "base_uri": "https://localhost:8080/"
        },
        "outputId": "754d36e5-786d-48b0-a588-cc663aa613f6"
      },
      "execution_count": 1,
      "outputs": [
        {
          "output_type": "stream",
          "name": "stdout",
          "text": [
            "There are 31536000 seconds in a year.\n"
          ]
        }
      ]
    },
    {
      "cell_type": "code",
      "source": [
        "# 07) tiny_mad_lib\n",
        "\n",
        "def mad_lib():\n",
        "  noun = input(\"Enter a noun: \")\n",
        "  verb = input(\"Enter a verb: \")\n",
        "  adjective = input(\"Enter an adjective: \")\n",
        "\n",
        "  print(f\"Today I saw a {adjective} {noun} trying to {verb} down the street!\")\n",
        "\n",
        "if __name__ == \"__main__\":\n",
        "  mad_lib()"
      ],
      "metadata": {
        "colab": {
          "base_uri": "https://localhost:8080/"
        },
        "id": "QGZ4zuwl9Qpk",
        "outputId": "a564b319-eab6-417d-91f1-2d8345334dbd"
      },
      "execution_count": 2,
      "outputs": [
        {
          "output_type": "stream",
          "name": "stdout",
          "text": [
            "Enter a noun: monkey\n",
            "Enter a verb: dance\n",
            "Enter an adjective: giant\n",
            "Today I saw a giant monkey trying to dance down the street\n"
          ]
        }
      ]
    }
  ]
}